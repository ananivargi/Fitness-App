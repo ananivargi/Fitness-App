{
 "cells": [
  {
   "cell_type": "code",
   "execution_count": 15,
   "metadata": {},
   "outputs": [
    {
     "name": "stderr",
     "output_type": "stream",
     "text": [
      "C:\\Users\\anani\\AppData\\Local\\Temp\\ipykernel_18744\\811379110.py:21: UserWarning: Setting the 'color' property will override the edgecolor or facecolor properties.\n",
      "  achieved = patches.Rectangle((0, 0), daily_width, 0.8, color='darkblue', edgecolor='black', linewidth=1)\n",
      "C:\\Users\\anani\\AppData\\Local\\Temp\\ipykernel_18744\\811379110.py:23: UserWarning: Setting the 'color' property will override the edgecolor or facecolor properties.\n",
      "  remaining = patches.Rectangle((daily_width, 0), goal_width - daily_width, 0.8, color='lightblue', edgecolor='black', linewidth=1)\n"
     ]
    },
    {
     "data": {
      "image/png": "[encoded data removed]",
      "text/plain": [
       "<Figure size 600x150 with 1 Axes>"
      ]
     },
     "metadata": {},
     "output_type": "display_data"
    }
   ],
   "source": [
    "# Import modules\n",
    "import matplotlib.pyplot as plt\n",
    "import matplotlib.patches as patches\n",
    "\n",
    "# User input for sleep goal and daily sleep\n",
    "sleep_goal = int(input(\"Enter sleep goal: \"))\n",
    "daily_sleep = int(input(\"Enter hours slept today: \"))\n",
    "\n",
    "# Creating the dataset\n",
    "data = {'Sleep Goal': sleep_goal, 'Daily Sleep': daily_sleep}\n",
    "categories = list(data.keys())\n",
    "values = list(data.values())\n",
    "\n",
    "fig, ax = plt.subplots(figsize=(6, 1.5))\n",
    "\n",
    "# Creating a single bar with two segments\n",
    "goal_width = values[0]\n",
    "daily_width = values[1]\n",
    "\n",
    "# Dark blue segment for daily sleep\n",
    "achieved = patches.Rectangle((0, 0), daily_width, 0.8, color='darkblue', edgecolor='black', linewidth=1)\n",
    "# Light blue segment for the remaining part of the goal\n",
    "remaining = patches.Rectangle((daily_width, 0), goal_width - daily_width, 0.8, color='lightblue', edgecolor='black', linewidth=1)\n",
    "\n",
    "# Adding the bars\n",
    "ax.add_patch(achieved)\n",
    "ax.add_patch(remaining)\n",
    "\n",
    "# Setting limits and labels\n",
    "ax.set_xlim(0, goal_width + 1)\n",
    "ax.set_ylim(0, 1)\n",
    "ax.set_yticks([]) \n",
    "ax.set_yticklabels([])\n",
    "ax.set_xlabel(\"Hours\")\n",
    "ax.set_title(\"Sleep Goal\")\n",
    "\n",
    "# Displaying the plot\n",
    "plt.show()\n",
    "\n"
   ]
  },
  {
   "cell_type": "code",
   "execution_count": 2,
   "metadata": {},
   "outputs": [
    {
     "name": "stderr",
     "output_type": "stream",
     "text": [
      "C:\\Users\\anani\\AppData\\Local\\Temp\\ipykernel_18744\\2957268794.py:16: UserWarning: Setting the 'color' property will override the edgecolor or facecolor properties.\n",
      "  bar = patches.Rectangle((0, 0), bar_width, 0.8, color='blue', edgecolor='black', linewidth=1)\n",
      "C:\\Users\\anani\\AppData\\Local\\Temp\\ipykernel_18744\\2957268794.py:17: UserWarning: Setting the 'color' property will override the edgecolor or facecolor properties.\n",
      "  remaining = patches.Rectangle((values[0], 0), values[1], 0.8, color='lightblue', edgecolor='black', linewidth=1)\n"
     ]
    },
    {
     "data": {
      "image/png": "[encoded data removed]",
      "text/plain": [
       "<Figure size 600x150 with 1 Axes>"
      ]
     },
     "metadata": {},
     "output_type": "display_data"
    }
   ],
   "source": [
    "\n",
    "# User input for step goal and daily steps\n",
    "steps_goal = int(input(\"Enter step goal: \"))\n",
    "daily_steps = int(input(\"Enter steps taken today: \"))\n",
    "\n",
    "# Creating the dataset\n",
    "data = {'Step Goal': steps_goal, 'Daily Steps': daily_steps}\n",
    "categories = list(data.keys())\n",
    "values = list(data.values())\n",
    "\n",
    "fig, ax = plt.subplots(figsize=(6, 1.5))\n",
    "\n",
    "# Creating a single bar with two segments\n",
    "goal_width = values[0]\n",
    "daily_width = values[1]\n",
    "\n",
    "# Dark blue segment for daily sleep\n",
    "achieved = patches.Rectangle((0, 0), daily_width, 0.8, color='darkblue', edgecolor='black', linewidth=1)\n",
    "# Light blue segment for the remaining part of the goal\n",
    "remaining = patches.Rectangle((daily_width, 0), goal_width - daily_width, 0.8, color='lightblue', edgecolor='black', linewidth=1)\n",
    "\n",
    "# Adding the bars\n",
    "ax.add_patch(achieved)\n",
    "ax.add_patch(remaining)\n",
    "\n",
    "# Setting limits and labels\n",
    "ax.set_xlim(0, goal_width + 1)\n",
    "ax.set_ylim(0, 1)\n",
    "ax.set_yticks([]) \n",
    "ax.set_yticklabels([])\n",
    "ax.set_xlabel(\"Steps Taken\")\n",
    "ax.set_title(\"Step Goal\")\n",
    "\n",
    "# Displaying the plot\n",
    "plt.show()\n",
    "\n"
   ]
  },
  {
   "cell_type": "code",
   "execution_count": 5,
   "metadata": {},
   "outputs": [
    {
     "name": "stderr",
     "output_type": "stream",
     "text": [
      "C:\\Users\\anani\\AppData\\Local\\Temp\\ipykernel_18744\\373879245.py:16: UserWarning: Setting the 'color' property will override the edgecolor or facecolor properties.\n",
      "  bar = patches.Rectangle((0, 0), bar_width, 0.8, color='blue', edgecolor='black', linewidth=1)\n",
      "C:\\Users\\anani\\AppData\\Local\\Temp\\ipykernel_18744\\373879245.py:17: UserWarning: Setting the 'color' property will override the edgecolor or facecolor properties.\n",
      "  remaining = patches.Rectangle((values[0], 0), values[1], 0.8, color='lightblue', edgecolor='black', linewidth=1)\n"
     ]
    },
    {
     "data": {
      "image/png": "[encoded data removed]",
      "text/plain": [
       "<Figure size 600x150 with 1 Axes>"
      ]
     },
     "metadata": {},
     "output_type": "display_data"
    }
   ],
   "source": [
    "\n",
    "# User input for calories goal and daily calories\n",
    "calories_goal = int(input(\"Enter calories goal: \"))\n",
    "daily_calories = int(input(\"Enter calories burned today: \"))\n",
    "\n",
    "# Create dataset\n",
    "data = {'Calories Goal': calories_goal, 'Daily Calories': daily_calories}\n",
    "categories = list(data.keys())\n",
    "values = list(data.values())\n",
    "\n",
    "fig, ax = plt.subplots(figsize=(6, 1.5))\n",
    "\n",
    "# Create a single bar with two segments\n",
    "goal_width = values[0]\n",
    "daily_width = values[1]\n",
    "\n",
    "# Dark blue segment for daily sleep\n",
    "achieved = patches.Rectangle((0, 0), daily_width, 0.8, color='darkblue', edgecolor='black', linewidth=1)\n",
    "# Light blue segment for the remaining part of the goal\n",
    "remaining = patches.Rectangle((daily_width, 0), goal_width - daily_width, 0.8, color='lightblue', edgecolor='black', linewidth=1)\n",
    "\n",
    "# Adding the rectangles to make bar \n",
    "ax.add_patch(achieved)\n",
    "ax.add_patch(remaining)\n",
    "\n",
    "# Setting limits and labels\n",
    "ax.set_xlim(0, goal_width + 1)\n",
    "ax.set_ylim(0, 1)\n",
    "ax.set_yticks([]) \n",
    "ax.set_yticklabels([])\n",
    "ax.set_xlabel(\"Calories\")\n",
    "ax.set_title(\"Calorie Goal\")\n",
    "\n",
    "# Displaying the plot\n",
    "plt.show()\n",
    "\n"
   ]
  }
 ],
 "metadata": {
  "kernelspec": {
   "display_name": "Python 3",
   "language": "python",
   "name": "python3"
  },
  "language_info": {
   "codemirror_mode": {
    "name": "ipython",
    "version": 3
   },
   "file_extension": ".py",
   "mimetype": "text/x-python",
   "name": "python",
   "nbconvert_exporter": "python",
   "pygments_lexer": "ipython3",
   "version": "3.10.11"
  }
 },
 "nbformat": 4,
 "nbformat_minor": 2
}
